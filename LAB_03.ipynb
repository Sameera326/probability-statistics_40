{
  "nbformat": 4,
  "nbformat_minor": 0,
  "metadata": {
    "colab": {
      "provenance": [],
      "authorship_tag": "ABX9TyN9U3QM/L4VwVznylmmZj/E",
      "include_colab_link": true
    },
    "kernelspec": {
      "name": "python3",
      "display_name": "Python 3"
    },
    "language_info": {
      "name": "python"
    }
  },
  "cells": [
    {
      "cell_type": "markdown",
      "metadata": {
        "id": "view-in-github",
        "colab_type": "text"
      },
      "source": [
        "<a href=\"https://colab.research.google.com/github/Sameera326/probability-statistics_40/blob/main/lab3.ipynb\" target=\"_parent\"><img src=\"https://colab.research.google.com/assets/colab-badge.svg\" alt=\"Open In Colab\"/></a>"
      ]
    },
    {
      "cell_type": "code",
      "execution_count": 5,
      "metadata": {
        "colab": {
          "base_uri": "https://localhost:8080/"
        },
        "id": "__QJW1k0BJ2L",
        "outputId": "afe39457-9a3a-4195-de4b-fd8e3e155108"
      },
      "outputs": [
        {
          "output_type": "stream",
          "name": "stdout",
          "text": [
            "median using numpy: 45.0\n",
            "mode using numpy:45\n",
            "mode using pandas:[45]\n"
          ]
        }
      ],
      "source": [
        "#lab-3\n",
        "#Q-1\n",
        "import numpy as np\n",
        "import pandas as pd\n",
        "a=[12,45,67,23,45,89,45,12,33,67,67,78,45,23,23,56,89,45,33,45]\n",
        "median=np.median(a)\n",
        "unique,counts=np.unique(a,return_counts=True)\n",
        "mode=unique[np.argmax(counts)]\n",
        "print(f\"median using numpy: {median}\")\n",
        "print(f\"mode using numpy:{mode}\")\n",
        "Series=pd.Series(a)\n",
        "mode_pandas=Series.mode()\n",
        "print(f\"mode using pandas:{mode_pandas.tolist()}\")"
      ]
    },
    {
      "cell_type": "code",
      "source": [
        "#Q-2\n",
        "import numpy as np\n",
        "import pandas as pd\n",
        "scores=[10,20,30,40,50]\n",
        "frequencies=[5,8,12,15,7]\n",
        "data_expand=[]\n",
        "for score,freq in zip(scores,frequencies):\n",
        "  data_expand.extend([score]*freq)\n",
        "median=np.median(data_expand)\n",
        "values,counts=np.unique(data_expand,return_counts=True)\n",
        "mode=values[np.argmax(counts)]\n",
        "mode_pandas=pd.Series(data_expand).mode()\n",
        "print(f\"median using numpy:{median}\")\n",
        "print(f\"mode using numpy:{mode}\")\n",
        "print(f\"mode(pandas):{mode_pandas}\")"
      ],
      "metadata": {
        "colab": {
          "base_uri": "https://localhost:8080/"
        },
        "id": "bzXLpmZGBsZA",
        "outputId": "6ba6032a-3c87-4df2-d750-f337a4db3723"
      },
      "execution_count": 7,
      "outputs": [
        {
          "output_type": "stream",
          "name": "stdout",
          "text": [
            "median using numpy:30.0\n",
            "mode using numpy:40\n",
            "mode(pandas):0    40\n",
            "dtype: int64\n"
          ]
        }
      ]
    },
    {
      "cell_type": "code",
      "source": [
        "#Q-3\n",
        "import numpy as np\n",
        "class_interval=[(0,10),(10,20),(20,30),(30,40),(40,50)]\n",
        "frequencies=[4,6,10,8,2]\n",
        "cumulative_frequency=np.cumsum(frequencies)\n",
        "def grouped_median(class_interval,frequencies):\n",
        "  n=sum(frequencies)\n",
        "  median_class_index=next(i for i,cf in enumerate (cumulative_frequency)if cf>=n/2)\n",
        "  l=class_interval[median_class_index][0]\n",
        "  F=cumulative_frequency[median_class_index-1]if median_class_index>0 else 0\n",
        "  f=frequencies[median_class_index]\n",
        "  h=class_interval[median_class_index][1]-class_interval[median_class_index][0]\n",
        "  median=l+((n/2-F)/f)*h\n",
        "  return median\n",
        "def grouped_mode(class_interval,frequencies):\n",
        "  mode_class_index=np.argmax(frequencies)\n",
        "  l=class_interval[mode_class_index][0]\n",
        "  f1=frequencies[mode_class_index]\n",
        "  f0=frequencies[mode_class_index-1]if mode_class_index>0 else 0\n",
        "  f2=frequencies[mode_class_index+1]if mode_class_index<len(frequencies)-1 else 0\n",
        "  h=class_interval[mode_class_index][1]-class_interval[mode_class_index][0]\n",
        "  return l+((f1-f0)/((f1-f0)+(f1-f2)))*h\n",
        "median=grouped_median(class_interval,frequencies)\n",
        "mode=grouped_mode(class_interval,frequencies)\n",
        "print(f\"median:{median}\")\n",
        "print(f\"mode:{mode}\")"
      ],
      "metadata": {
        "colab": {
          "base_uri": "https://localhost:8080/"
        },
        "id": "4vFQ1tQgDGn1",
        "outputId": "491b466f-1514-44c3-b935-addccf8e9a37"
      },
      "execution_count": 10,
      "outputs": [
        {
          "output_type": "stream",
          "name": "stdout",
          "text": [
            "median:25.0\n",
            "mode:26.666666666666664\n"
          ]
        }
      ]
    }
  ]
}
